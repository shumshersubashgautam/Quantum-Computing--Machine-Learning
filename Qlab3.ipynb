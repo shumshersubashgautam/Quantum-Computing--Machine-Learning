{
 "cells": [
  {
   "cell_type": "code",
   "execution_count": null,
   "metadata": {},
   "outputs": [],
   "source": []
  },
  {
   "cell_type": "code",
   "execution_count": 1,
   "metadata": {},
   "outputs": [],
   "source": [
    "from qiskit import execute, QuantumCircuit, QuantumRegister, ClassicalRegister\n",
    "from qiskit.quantum_info.operators import Operator\n",
    "from qiskit.quantum_info import process_fidelity\n",
    "from qiskit.providers.aer import QasmSimulator\n",
    "from qiskit.providers.aer.noise import NoiseModel, errors\n",
    "\n",
    "from qiskit.tools.visualization import plot_histogram"
   ]
  },
  {
   "cell_type": "code",
   "execution_count": 2,
   "metadata": {},
   "outputs": [],
   "source": [
    "# CNOT matrix operator with qubit-0 as control and qubit-1 as target\n",
    "cx_op = Operator([[1, 0, 0, 0],\n",
    "                  [0, 0, 0, 1],\n",
    "                  [0, 0, 1, 0],\n",
    "                  [0, 1, 0, 0]])\n",
    "\n",
    "# iSWAP matrix operator\n",
    "iswap_op = Operator([[1, 0, 0, 0],\n",
    "                     [0, 0, 1j, 0],\n",
    "                     [0, 1j, 0, 0],\n",
    "                     [0, 0, 0, 1]])"
   ]
  },
  {
   "cell_type": "code",
   "execution_count": 3,
   "metadata": {},
   "outputs": [
    {
     "name": "stdout",
     "output_type": "stream",
     "text": [
      "        ┌─────┐     ┌──────────┐┌─────┐┌───┐┌─────┐┌──────────┐     \n",
      "q_0: |0>┤ Sdg ├─────┤0         ├┤ Sdg ├┤ H ├┤ Sdg ├┤0         ├─────\n",
      "        ├─────┤┌───┐│  unitary │└─────┘└───┘└─────┘│  unitary │┌───┐\n",
      "q_1: |0>┤ Sdg ├┤ H ├┤1         ├───────────────────┤1         ├┤ S ├\n",
      "        └─────┘└───┘└──────────┘                   └──────────┘└───┘\n"
     ]
    }
   ],
   "source": [
    "# CNOT in terms of iSWAP and single-qubit gates\n",
    "cx_circ = QuantumCircuit(2)\n",
    "\n",
    "# Add gates\n",
    "cx_circ.sdg(1)\n",
    "cx_circ.h(1)\n",
    "cx_circ.sdg(0)\n",
    "cx_circ.unitary(iswap_op, [0, 1], label='iswap')\n",
    "cx_circ.sdg(0)\n",
    "cx_circ.h(0)\n",
    "cx_circ.sdg(0)\n",
    "cx_circ.unitary(iswap_op, [0, 1], label='iswap')\n",
    "cx_circ.s(1)\n",
    "\n",
    "print(cx_circ)"
   ]
  },
  {
   "cell_type": "code",
   "execution_count": 5,
   "metadata": {},
   "outputs": [
    {
     "name": "stdout",
     "output_type": "stream",
     "text": [
      "Operator([[1.+0.j 0.+0.j 0.+0.j 0.+0.j]\n",
      " [0.+0.j 0.+0.j 0.+0.j 1.+0.j]\n",
      " [0.+0.j 0.+0.j 1.+0.j 0.+0.j]\n",
      " [0.+0.j 1.+0.j 0.+0.j 0.+0.j]], input_dims=(2, 2), output_dims=(2, 2))\n"
     ]
    }
   ],
   "source": [
    "\n",
    "# Simulate the unitary for the circuit using Operator:\n",
    "unitary = Operator(cx_circ)\n",
    "print(unitary)"
   ]
  },
  {
   "cell_type": "code",
   "execution_count": 6,
   "metadata": {},
   "outputs": [
    {
     "name": "stdout",
     "output_type": "stream",
     "text": [
      "Process Fidelity =  (0.9999999999999996+0j)\n"
     ]
    }
   ],
   "source": [
    "fpro = process_fidelity(cx_op, unitary)\n",
    "print(\"Process Fidelity = \", fpro)"
   ]
  },
  {
   "cell_type": "code",
   "execution_count": 7,
   "metadata": {},
   "outputs": [
    {
     "data": {
      "text/plain": [
       "True"
      ]
     },
     "execution_count": 7,
     "metadata": {},
     "output_type": "execute_result"
    }
   ],
   "source": [
    "'unitary' in QasmSimulator().configuration().basis_gates"
   ]
  },
  {
   "cell_type": "code",
   "execution_count": 8,
   "metadata": {},
   "outputs": [],
   "source": [
    "# Error parameters\n",
    "param_q0 = 0.05  # damping parameter for qubit-0\n",
    "param_q1 = 0.1   # damping parameter for qubit-1\n",
    "\n",
    "# Construct the error\n",
    "qerror_q0 = errors.amplitude_damping_error(param_q0)\n",
    "qerror_q1 = errors.amplitude_damping_error(param_q1)\n",
    "iswap_error = qerror_q1.tensor(qerror_q0)\n",
    "\n",
    "# Build the noise model by adding the error to the \"iswap\" gate\n",
    "noise_model = NoiseModel()\n",
    "noise_model.add_all_qubit_quantum_error(iswap_error, 'iswap')"
   ]
  },
  {
   "cell_type": "code",
   "execution_count": 9,
   "metadata": {},
   "outputs": [
    {
     "name": "stdout",
     "output_type": "stream",
     "text": [
      "['cx', 'id', 'u3', 'unitary']\n"
     ]
    }
   ],
   "source": [
    "noise_model.add_basis_gates(['unitary'])\n",
    "print(noise_model.basis_gates)"
   ]
  },
  {
   "cell_type": "code",
   "execution_count": 10,
   "metadata": {},
   "outputs": [
    {
     "name": "stdout",
     "output_type": "stream",
     "text": [
      "         ┌───┐ ┌─────┐┌──────────┐┌─────┐┌───┐┌─────┐┌──────────┐     ┌─┐   \n",
      "q_0: |0>─┤ H ├─┤ Sdg ├┤0         ├┤ Sdg ├┤ H ├┤ Sdg ├┤0         ├─────┤M├───\n",
      "        ┌┴───┴┐└┬───┬┘│  unitary │└─────┘└───┘└─────┘│  unitary │┌───┐└╥┘┌─┐\n",
      "q_1: |0>┤ Sdg ├─┤ H ├─┤1         ├───────────────────┤1         ├┤ S ├─╫─┤M├\n",
      "        └─────┘ └───┘ └──────────┘                   └──────────┘└───┘ ║ └╥┘\n",
      " c_0: 0 ═══════════════════════════════════════════════════════════════╩══╬═\n",
      "                                                                          ║ \n",
      " c_1: 0 ══════════════════════════════════════════════════════════════════╩═\n",
      "                                                                            \n"
     ]
    }
   ],
   "source": [
    "\n",
    "# Bell state circuit where iSWAPS should be inserted at barrier locations\n",
    "bell_circ = QuantumCircuit(2, 2, name='bell')\n",
    "bell_circ.h(0)\n",
    "bell_circ = bell_circ + cx_circ \n",
    "bell_circ.measure([0,1], [0,1])\n",
    "print(bell_circ)"
   ]
  },
  {
   "cell_type": "code",
   "execution_count": 11,
   "metadata": {},
   "outputs": [
    {
     "data": {
      "image/png": "[encoded data removed]",
      "text/plain": [
       "<Figure size 504x360 with 1 Axes>"
      ]
     },
     "execution_count": 11,
     "metadata": {},
     "output_type": "execute_result"
    }
   ],
   "source": [
    "# Execute on the simulator without noise\n",
    "job = execute(bell_circ, QasmSimulator(),\n",
    "              basis_gates=noise_model.basis_gates)\n",
    "ideal_result = job.result()\n",
    "ideal_counts = ideal_result.get_counts(bell_circ)\n",
    "plot_histogram(ideal_counts, title='Ideal output for iSWAP bell-state preparation')"
   ]
  },
  {
   "cell_type": "code",
   "execution_count": 12,
   "metadata": {},
   "outputs": [
    {
     "data": {
      "image/png": "[encoded data removed]",
      "text/plain": [
       "<Figure size 504x360 with 1 Axes>"
      ]
     },
     "execution_count": 12,
     "metadata": {},
     "output_type": "execute_result"
    }
   ],
   "source": [
    "# Execute on the simulator without noise\n",
    "job = execute(bell_circ, QasmSimulator(),\n",
    "              basis_gates=noise_model.basis_gates,\n",
    "              noise_model=noise_model)\n",
    "noise_result = job.result()\n",
    "noise_counts = noise_result.get_counts(bell_circ)\n",
    "plot_histogram(noise_counts, title='Noisy output for iSWAP bell-state preparation')"
   ]
  },
  {
   "cell_type": "code",
   "execution_count": 13,
   "metadata": {},
   "outputs": [
    {
     "data": {
      "text/html": [
       "<h3>Version Information</h3><table><tr><th>Qiskit Software</th><th>Version</th></tr><tr><td>Qiskit</td><td>0.13.0</td></tr><tr><td>Terra</td><td>0.10.0</td></tr><tr><td>Aer</td><td>0.3.2</td></tr><tr><td>Ignis</td><td>0.2.0</td></tr><tr><td>Aqua</td><td>0.6.1</td></tr><tr><td>IBM Q Provider</td><td>0.3.3</td></tr><tr><th>System information</th></tr><tr><td>Python</td><td>3.7.3 | packaged by conda-forge | (default, Jul  1 2019, 21:52:21) \n",
       "[GCC 7.3.0]</td></tr><tr><td>OS</td><td>Linux</td></tr><tr><td>CPUs</td><td>8</td></tr><tr><td>Memory (Gb)</td><td>31.409332275390625</td></tr><tr><td colspan='2'>Sat Dec 07 07:29:52 2019 UTC</td></tr></table>"
      ],
      "text/plain": [
       "<IPython.core.display.HTML object>"
      ]
     },
     "metadata": {},
     "output_type": "display_data"
    },
    {
     "data": {
      "text/html": [
       "<div style='width: 100%; background-color:#d5d9e0;padding-left: 10px; padding-bottom: 10px; padding-right: 10px; padding-top: 5px'><h3>This code is a part of Qiskit</h3><p>&copy; Copyright IBM 2017, 2019.</p><p>This code is licensed under the Apache License, Version 2.0. You may<br>obtain a copy of this license in the LICENSE.txt file in the root directory<br> of this source tree or at http://www.apache.org/licenses/LICENSE-2.0.<p>Any modifications or derivative works of this code must retain this<br>copyright notice, and modified files need to carry a notice indicating<br>that they have been altered from the originals.</p></div>"
      ],
      "text/plain": [
       "<IPython.core.display.HTML object>"
      ]
     },
     "metadata": {},
     "output_type": "display_data"
    }
   ],
   "source": [
    "\n",
    "import qiskit.tools.jupyter\n",
    "%qiskit_version_table\n",
    "%qiskit_copyright"
   ]
  },
  {
   "cell_type": "code",
   "execution_count": 14,
   "metadata": {},
   "outputs": [
    {
     "name": "stdout",
     "output_type": "stream",
     "text": [
      "{'0 0 1': 246, '0 0 0': 239, '0 1 1': 263, '1 1 0': 5, '1 1 1': 10, '0 1 0': 253, '1 0 0': 6, '1 0 1': 2}\n",
      "{'0 0 1': 246, '0 0 0': 239, '0 1 1': 263, '1 1 0': 5, '1 1 1': 10, '0 1 0': 253, '1 0 0': 6, '1 0 1': 2}\n"
     ]
    }
   ],
   "source": [
    "# -*- coding: utf-8 -*-\n",
    "\n",
    "# This code is part of Qiskit.\n",
    "#\n",
    "# (C) Copyright IBM 2017.\n",
    "#\n",
    "# This code is licensed under the Apache License, Version 2.0. You may\n",
    "# obtain a copy of this license in the LICENSE.txt file in the root directory\n",
    "# of this source tree or at http://www.apache.org/licenses/LICENSE-2.0.\n",
    "#\n",
    "# Any modifications or derivative works of this code must retain this\n",
    "# copyright notice, and modified files need to carry a notice indicating\n",
    "# that they have been altered from the originals.\n",
    "\n",
    "\"\"\"\n",
    "Quantum teleportation example.\n",
    "\n",
    "Note: if you have only cloned the Qiskit repository but not\n",
    "used `pip install`, the examples only work from the root directory.\n",
    "\"\"\"\n",
    "\n",
    "from qiskit import QuantumRegister, ClassicalRegister, QuantumCircuit\n",
    "from qiskit import BasicAer\n",
    "from qiskit import execute\n",
    "\n",
    "###############################################################\n",
    "# Set the backend name and coupling map.\n",
    "###############################################################\n",
    "coupling_map = [[0, 1], [0, 2], [1, 2], [3, 2], [3, 4], [4, 2]]\n",
    "backend = BasicAer.get_backend(\"qasm_simulator\")\n",
    "\n",
    "###############################################################\n",
    "# Make a quantum program for quantum teleportation.\n",
    "###############################################################\n",
    "q = QuantumRegister(3, \"q\")\n",
    "c0 = ClassicalRegister(1, \"c0\")\n",
    "c1 = ClassicalRegister(1, \"c1\")\n",
    "c2 = ClassicalRegister(1, \"c2\")\n",
    "qc = QuantumCircuit(q, c0, c1, c2, name=\"teleport\")\n",
    "\n",
    "# Prepare an initial state\n",
    "qc.u3(0.3, 0.2, 0.1, q[0])\n",
    "\n",
    "# Prepare a Bell pair\n",
    "qc.h(q[1])\n",
    "qc.cx(q[1], q[2])\n",
    "\n",
    "# Barrier following state preparation\n",
    "qc.barrier(q)\n",
    "\n",
    "# Measure in the Bell basis\n",
    "qc.cx(q[0], q[1])\n",
    "qc.h(q[0])\n",
    "qc.measure(q[0], c0[0])\n",
    "qc.measure(q[1], c1[0])\n",
    "\n",
    "# Apply a correction\n",
    "qc.barrier(q)\n",
    "qc.z(q[2]).c_if(c0, 1)\n",
    "qc.x(q[2]).c_if(c1, 1)\n",
    "qc.measure(q[2], c2[0])\n",
    "\n",
    "###############################################################\n",
    "# Execute.\n",
    "# Experiment does not support feedback, so we use the simulator\n",
    "###############################################################\n",
    "\n",
    "# First version: not mapped\n",
    "initial_layout = {q[0]: 0,\n",
    "                  q[1]: 1,\n",
    "                  q[2]: 2}\n",
    "job = execute(qc, backend=backend, coupling_map=None, shots=1024,\n",
    "              initial_layout=initial_layout)\n",
    "\n",
    "result = job.result()\n",
    "print(result.get_counts(qc))\n",
    "\n",
    "# Second version: mapped to 2x8 array coupling graph\n",
    "job = execute(qc, backend=backend, coupling_map=coupling_map, shots=1024,\n",
    "              initial_layout=initial_layout)\n",
    "result = job.result()\n",
    "print(result.get_counts(qc))\n",
    "# Both versions should give the same distribution"
   ]
  },
  {
   "cell_type": "code",
   "execution_count": 15,
   "metadata": {},
   "outputs": [],
   "source": [
    "# -*- coding: utf-8 -*-\n",
    "\n",
    "# This code is part of Qiskit.\n",
    "#\n",
    "# (C) Copyright IBM 2018, 2019.\n",
    "#\n",
    "# This code is licensed under the Apache License, Version 2.0. You may\n",
    "# obtain a copy of this license in the LICENSE.txt file in the root directory\n",
    "# of this source tree or at http://www.apache.org/licenses/LICENSE-2.0.\n",
    "#\n",
    "# Any modifications or derivative works of this code must retain this\n",
    "# copyright notice, and modified files need to carry a notice indicating\n",
    "# that they have been altered from the originals.\n",
    "\n",
    "\"\"\"\n",
    "breast cancer dataset\n",
    "\"\"\"\n",
    "\n",
    "import numpy as np\n",
    "from sklearn import datasets\n",
    "from sklearn.model_selection import train_test_split\n",
    "from sklearn.preprocessing import StandardScaler, MinMaxScaler\n",
    "from sklearn.decomposition import PCA\n",
    "try:\n",
    "    import matplotlib.pyplot as plt\n",
    "    HAS_MATPLOTLIB = True\n",
    "except ImportError:\n",
    "    HAS_MATPLOTLIB = False\n",
    "\n",
    "\n",
    "def breast_cancer(training_size, test_size, n, plot_data=False):\n",
    "    \"\"\" returns breast cancer dataset \"\"\"\n",
    "    class_labels = [r'A', r'B']\n",
    "    data, target = datasets.load_breast_cancer(True)\n",
    "    sample_train, sample_test, label_train, label_test = \\\n",
    "        train_test_split(data, target, test_size=0.3, random_state=12)\n",
    "\n",
    "    # Now we standardize for gaussian around 0 with unit variance\n",
    "    std_scale = StandardScaler().fit(sample_train)\n",
    "    sample_train = std_scale.transform(sample_train)\n",
    "    sample_test = std_scale.transform(sample_test)\n",
    "\n",
    "    # Now reduce number of features to number of qubits\n",
    "    pca = PCA(n_components=n).fit(sample_train)\n",
    "    sample_train = pca.transform(sample_train)\n",
    "    sample_test = pca.transform(sample_test)\n",
    "\n",
    "    # Scale to the range (-1,+1)\n",
    "    samples = np.append(sample_train, sample_test, axis=0)\n",
    "    minmax_scale = MinMaxScaler((-1, 1)).fit(samples)\n",
    "    sample_train = minmax_scale.transform(sample_train)\n",
    "    sample_test = minmax_scale.transform(sample_test)\n",
    "\n",
    "    # Pick training size number of samples from each distro\n",
    "    training_input = {key: (sample_train[label_train == k, :])[:training_size]\n",
    "                      for k, key in enumerate(class_labels)}\n",
    "    test_input = {key: (sample_test[label_test == k, :])[:test_size]\n",
    "                  for k, key in enumerate(class_labels)}\n",
    "\n",
    "    if plot_data:\n",
    "        if not HAS_MATPLOTLIB:\n",
    "            raise NameError('Matplotlib not installed. Plase install it before plotting')\n",
    "        for k in range(0, 2):\n",
    "            plt.scatter(sample_train[label_train == k, 0][:training_size],\n",
    "                        sample_train[label_train == k, 1][:training_size])\n",
    "\n",
    "        plt.title(\"PCA dim. reduced Breast cancer dataset\")\n",
    "        plt.show()\n",
    "\n",
    "    return sample_train, training_input, test_input, class_labels"
   ]
  },
  {
   "cell_type": "code",
   "execution_count": null,
   "metadata": {},
   "outputs": [],
   "source": []
  }
 ],
 "metadata": {
  "kernelspec": {
   "display_name": "Python 3 (ipykernel)",
   "language": "python",
   "name": "python3"
  },
  "language_info": {
   "codemirror_mode": {
    "name": "ipython",
    "version": 3
   },
   "file_extension": ".py",
   "mimetype": "text/x-python",
   "name": "python",
   "nbconvert_exporter": "python",
   "pygments_lexer": "ipython3",
   "version": "3.8.12"
  },
  "widgets": {
   "application/vnd.jupyter.widget-state+json": {
    "state": {},
    "version_major": 2,
    "version_minor": 0
   }
  }
 },
 "nbformat": 4,
 "nbformat_minor": 4
}
